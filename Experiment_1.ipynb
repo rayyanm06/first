{
  "nbformat": 4,
  "nbformat_minor": 0,
  "metadata": {
    "colab": {
      "provenance": [],
      "authorship_tag": "ABX9TyObZUFuvtIOADhjuzQqqTsK",
      "include_colab_link": true
    },
    "kernelspec": {
      "name": "python3",
      "display_name": "Python 3"
    },
    "language_info": {
      "name": "python"
    }
  },
  "cells": [
    {
      "cell_type": "markdown",
      "metadata": {
        "id": "view-in-github",
        "colab_type": "text"
      },
      "source": [
        "<a href=\"https://colab.research.google.com/github/rayyanm06/first/blob/main/Experiment_1.ipynb\" target=\"_parent\"><img src=\"https://colab.research.google.com/assets/colab-badge.svg\" alt=\"Open In Colab\"/></a>"
      ]
    },
    {
      "cell_type": "markdown",
      "source": [
        "Problem 1:Write a Python program to perform basic arithmetic operations"
      ],
      "metadata": {
        "id": "yhjri5HnAvE_"
      }
    },
    {
      "cell_type": "code",
      "execution_count": null,
      "metadata": {
        "colab": {
          "base_uri": "https://localhost:8080/"
        },
        "id": "YsJXRA6bAg3Z",
        "outputId": "582eeb1d-15a5-4fd2-c62e-1ecc2dbd771f"
      },
      "outputs": [
        {
          "output_type": "stream",
          "name": "stdout",
          "text": [
            "Enter x : 10\n",
            "Enter y : 4\n",
            "Addition of x and y :  14\n",
            "Subtraction of x and y :  6\n",
            "Multiplication of x and y :  40\n",
            "Exponentiation of x base with power y :  10000\n",
            "Division of x and y 2.5\n",
            "Remainder of x when divided by y :  2\n"
          ]
        }
      ],
      "source": [
        " x=input(\"Enter x : \")\n",
        " y=input(\"Enter y : \")\n",
        "print(\"Addition of x and y : \", int(x)+int(y)) #addition\n",
        "\n",
        "print(\"Subtraction of x and y : \",int(x)-int(y)) #subtraction\n",
        "\n",
        "print(\"Multiplication of x and y : \",int(x)*int(y)) #multiplication\n",
        "\n",
        "print(\"Exponentiation of x base with power y : \",int(x)**int(y)) #Exponentiation\n",
        "\n",
        "print(\"Division of x and y\",int(x)/int(y)) #Division\n",
        "\n",
        "print(\"Remainder of x when divided by y : \",int(x)%int(y)) #modulo operator"
      ]
    },
    {
      "cell_type": "markdown",
      "source": [
        "Problem 2:Create a program that takes input and displays its data type.\n"
      ],
      "metadata": {
        "id": "eCZd3Ykpg2iU"
      }
    },
    {
      "cell_type": "code",
      "source": [
        "x=input(\"Enter x : \")\n",
        "print(\"Data type of x : \",type(x)) #used defined function type\n",
        "y=int(input(\"Enter y : \"))\n",
        "print(\"Data type of y : \",type(y))\n",
        "z=float(input(\"Enter z : \"))\n",
        "print(\"Data type of z : \",type(z))\n",
        "w=bool(input(\"Enter w : \"))\n",
        "print(\"Data type of w : \",type(w))\n"
      ],
      "metadata": {
        "colab": {
          "base_uri": "https://localhost:8080/"
        },
        "id": "qrxo-LfpDwi2",
        "outputId": "f2e17a42-0936-4084-a5f5-e478bdf4c6e4"
      },
      "execution_count": null,
      "outputs": [
        {
          "output_type": "stream",
          "name": "stdout",
          "text": [
            "Enter x : Hello\n",
            "Data type of x :  <class 'str'>\n",
            "Enter y : 10\n",
            "Data type of y :  <class 'int'>\n",
            "Enter z : 10.4\n",
            "Data type of z :  <class 'float'>\n",
            "Enter w : true\n",
            "Data type of w :  <class 'bool'>\n"
          ]
        }
      ]
    },
    {
      "cell_type": "markdown",
      "source": [
        "Problem 3:Write a program to swap two variable using a third variable"
      ],
      "metadata": {
        "id": "1CsMqAlMEk2v"
      }
    },
    {
      "cell_type": "code",
      "source": [
        "x=int(input(\"Enter a = \")) #input from user\n",
        "y=int(input(\"Enter b = \"))\n",
        "\n",
        "z=x #used third variable z to swap two numbers\n",
        "\n",
        "x=y\n",
        "\n",
        "y=z\n",
        "\n",
        "print(\"Swapped Numbers a =\",x,\"b =\",y)"
      ],
      "metadata": {
        "colab": {
          "base_uri": "https://localhost:8080/"
        },
        "id": "S3-x1GrkEqgw",
        "outputId": "532cdeaa-2158-4d3d-8d49-ebed28b1f3e8"
      },
      "execution_count": null,
      "outputs": [
        {
          "output_type": "stream",
          "name": "stdout",
          "text": [
            "Enter a = 10\n",
            "Enter b = 12\n",
            "Swapped Numbers a = 12 b = 10\n"
          ]
        }
      ]
    },
    {
      "cell_type": "markdown",
      "source": [
        "Problem 4:Convert Celsius to Fahrenheit using a user-defined formula."
      ],
      "metadata": {
        "id": "NF2cIjrXFOgh"
      }
    },
    {
      "cell_type": "code",
      "source": [
        "celcius=float(input(\"Enter temperature in celcius : \"))#user input\n",
        "\n",
        "farenheit=(9/5*celcius)+32 #user defined formula for farenheit celcios conversion\n",
        "\n",
        "print(\"Temperature in celcius : \" ,farenheit)\n",
        "\n"
      ],
      "metadata": {
        "colab": {
          "base_uri": "https://localhost:8080/"
        },
        "id": "wif_bx5MFVFx",
        "outputId": "cd778f1e-2888-487c-d2bc-5b7952d61ba1"
      },
      "execution_count": null,
      "outputs": [
        {
          "output_type": "stream",
          "name": "stdout",
          "text": [
            "Enter temperature in celcius : 32\n",
            "Temperature in celcius :  89.6\n"
          ]
        }
      ]
    },
    {
      "cell_type": "markdown",
      "source": [
        "Problem 5: Check wether a number is even or odd"
      ],
      "metadata": {
        "id": "eEnLjTIgGFSM"
      }
    },
    {
      "cell_type": "code",
      "source": [
        "x=int(input(\"Enter number : \")) #input by user\n",
        "\n",
        "if x%2==0: #if divisible by 2 its even\n",
        "  print(\"Entered number is even\")\n",
        "else:     #if divisible by 2 its even\n",
        "  print(\"Entered number is odd\")"
      ],
      "metadata": {
        "colab": {
          "base_uri": "https://localhost:8080/"
        },
        "id": "CtHaqcmrGJfr",
        "outputId": "0b78979a-45c5-4bf5-9d30-967cd210cfc0"
      },
      "execution_count": null,
      "outputs": [
        {
          "output_type": "stream",
          "name": "stdout",
          "text": [
            "Enter number : 1\n",
            "Entered number is odd\n"
          ]
        }
      ]
    },
    {
      "cell_type": "markdown",
      "source": [
        "Problem 6:Determine whether number is positive negative or zero"
      ],
      "metadata": {
        "id": "9BIPeeHoG2mG"
      }
    },
    {
      "cell_type": "code",
      "source": [
        "# Prompt the user to enter a number and store it in variable x\n",
        "x = int(input(\"Enter number: \"))\n",
        "\n",
        "# Check if the number is greater than zero\n",
        "if x > 0:\n",
        "    print(\"Number is positive.\")  # This will run if x is positive\n",
        "\n",
        "# If not positive, check if it is less than zero\n",
        "elif x < 0:\n",
        "    print(\"Number is negative.\")  # This will run if x is negative\n",
        "\n",
        "# If neither positive nor negative, it must be zero\n",
        "else:\n",
        "    print(\"Number is zero.\")  # This will run if x equals zero\n"
      ],
      "metadata": {
        "colab": {
          "base_uri": "https://localhost:8080/"
        },
        "id": "I26PBKnrGvQO",
        "outputId": "c75b0a81-6284-49fe-fa1a-8b5b8e63b0e6"
      },
      "execution_count": null,
      "outputs": [
        {
          "output_type": "stream",
          "name": "stdout",
          "text": [
            "Enter number : -10\n",
            "Number is negative.\n"
          ]
        }
      ]
    },
    {
      "cell_type": "markdown",
      "source": [
        "Problem 7:Calculate the area of a circle given its radius."
      ],
      "metadata": {
        "id": "MLpewdovHQRJ"
      }
    },
    {
      "cell_type": "code",
      "source": [
        "r=float(input(\"Enter Radius : \"))#inout radius from user\n",
        "\n",
        "area= 3.14*r**2 #user defined formula for area of circle\n",
        "\n",
        "print(\"Area of Circle with given Radius : \",area)"
      ],
      "metadata": {
        "colab": {
          "base_uri": "https://localhost:8080/"
        },
        "id": "ZRIHtnnCHZ4Y",
        "outputId": "d5b2b9a1-2060-43a0-ed90-3654a0ba903e"
      },
      "execution_count": null,
      "outputs": [
        {
          "output_type": "stream",
          "name": "stdout",
          "text": [
            "Enter Radius : 3\n",
            "Area of Circle with given Radius :  28.26\n"
          ]
        }
      ]
    },
    {
      "cell_type": "markdown",
      "source": [
        "Problem 8:Display a multiplication table for any number using loops.\n"
      ],
      "metadata": {
        "id": "ApSifqu-H0wZ"
      }
    },
    {
      "cell_type": "code",
      "source": [
        "x = int(input(\"Enter number: \"))\n",
        "\n",
        "y=int(input(\"Enter Number to which table should be printed : \"))\n",
        "\n",
        "# Loop 10 times (i will take values from 0 to 9)\n",
        "for i in range(1,y+1):\n",
        "    # Multiply the entered number (x) by the current loop value (i)\n",
        "    print(x,\"*\",i,\"=\",i * x)\n"
      ],
      "metadata": {
        "colab": {
          "base_uri": "https://localhost:8080/"
        },
        "id": "te7xFPrcH71p",
        "outputId": "7b90864e-683b-4cb9-c2ee-5f32f944de3a"
      },
      "execution_count": null,
      "outputs": [
        {
          "output_type": "stream",
          "name": "stdout",
          "text": [
            "Enter number: 4\n",
            "Enter Number to which table should be printed : 17\n",
            "4 * 1 = 4\n",
            "4 * 2 = 8\n",
            "4 * 3 = 12\n",
            "4 * 4 = 16\n",
            "4 * 5 = 20\n",
            "4 * 6 = 24\n",
            "4 * 7 = 28\n",
            "4 * 8 = 32\n",
            "4 * 9 = 36\n",
            "4 * 10 = 40\n",
            "4 * 11 = 44\n",
            "4 * 12 = 48\n",
            "4 * 13 = 52\n",
            "4 * 14 = 56\n",
            "4 * 15 = 60\n",
            "4 * 16 = 64\n",
            "4 * 17 = 68\n"
          ]
        }
      ]
    },
    {
      "cell_type": "markdown",
      "source": [
        "Problem 9:Create a program to print the first 10 natural numbers using a loop."
      ],
      "metadata": {
        "id": "4zrphbtCIq1a"
      }
    },
    {
      "cell_type": "code",
      "source": [
        "# Initialize the variable i with value 1\n",
        "i = 1\n",
        "\n",
        "# Run the loop as long as i is less than 11\n",
        "while i < 11:\n",
        "    print(i)     # Print the current value of i\n",
        "    i += 1       # Increase i by 1 in each iteration\n"
      ],
      "metadata": {
        "colab": {
          "base_uri": "https://localhost:8080/"
        },
        "id": "tadYAZz8Iztb",
        "outputId": "cf4ff410-69d6-43a5-9f60-383fdc2b28c0"
      },
      "execution_count": null,
      "outputs": [
        {
          "output_type": "stream",
          "name": "stdout",
          "text": [
            "1\n",
            "2\n",
            "3\n",
            "4\n",
            "5\n",
            "6\n",
            "7\n",
            "8\n",
            "9\n",
            "10\n"
          ]
        }
      ]
    },
    {
      "cell_type": "markdown",
      "source": [
        "Problem 10:Write a program to check if a number is divisible by 3 and 5"
      ],
      "metadata": {
        "id": "ytKORvJ9JKGM"
      }
    },
    {
      "cell_type": "code",
      "source": [
        "# Ask the user to enter a number and convert it to an integer\n",
        "x = int(input(\"Enter a number: \"))\n",
        "\n",
        "# Check if the number is divisible by both 3 and 5\n",
        "# x % 3 == 0 → means remainder is 0 when divided by 3 (divisible by 3)\n",
        "# x % 5 == 0 → means remainder is 0 when divided by 5 (divisible by 5)\n",
        "if x % 3 == 0 and x % 5 == 0:\n",
        "    print(\"Number is divisible by 3 and 5\")  # If both conditions are true\n",
        "\n",
        "# If the above condition is false, it means it's not divisible by both\n",
        "else:\n",
        "    print(\"Number is not divisible by 3 and 5\")\n",
        "\n"
      ],
      "metadata": {
        "colab": {
          "base_uri": "https://localhost:8080/"
        },
        "id": "ZeTZ0xu-JRsM",
        "outputId": "2a282c0e-4891-490d-8fc6-02bb7491cc81"
      },
      "execution_count": null,
      "outputs": [
        {
          "output_type": "stream",
          "name": "stdout",
          "text": [
            "Enter a number : 10\n",
            "Number is not divisible by 3 and 5\n"
          ]
        }
      ]
    },
    {
      "cell_type": "markdown",
      "source": [
        "Problem 11:Print all prime numbers in a range entered by the user."
      ],
      "metadata": {
        "id": "_Be79ZXSJvYt"
      }
    },
    {
      "cell_type": "code",
      "source": [
        "r=int(input(\"Enter Range for prime numbers : \"))\n",
        "\n",
        "for i in range(2,r):\n",
        "  for j in range(2,i):\n",
        "    if i%j==0:\n",
        "      break\n",
        "  else:\n",
        "    print(i)\n"
      ],
      "metadata": {
        "colab": {
          "base_uri": "https://localhost:8080/"
        },
        "id": "4XE8KcrYJ18e",
        "outputId": "a73bcb66-7843-4dc5-d4ea-562f9525b511"
      },
      "execution_count": null,
      "outputs": [
        {
          "output_type": "stream",
          "name": "stdout",
          "text": [
            "Enter Range for prime numbers : 20\n",
            "2\n",
            "3\n",
            "5\n",
            "7\n",
            "11\n",
            "13\n",
            "17\n",
            "19\n"
          ]
        }
      ]
    },
    {
      "cell_type": "markdown",
      "source": [
        "Problem 12 :Accept age and print whether the user is eligible to vote."
      ],
      "metadata": {
        "id": "XghHvjmXNROH"
      }
    },
    {
      "cell_type": "code",
      "source": [
        "# Ask the user to enter their age and convert it to an integer\n",
        "age = int(input(\"Enter the age: \"))\n",
        "\n",
        "# Check if the entered age is less than 18\n",
        "if age < 18:\n",
        "    print(\"Not eligible to vote.\")  # If age is below 18, they cannot vote\n",
        "\n",
        "# If the age is 18 or above\n",
        "else:\n",
        "    print(\"Eligible to vote.\")  # They are eligible to vote\n"
      ],
      "metadata": {
        "colab": {
          "base_uri": "https://localhost:8080/"
        },
        "id": "ZFbK9vGpNFa2",
        "outputId": "6b6f24d2-a9d6-40bb-974b-65749da3ad52"
      },
      "execution_count": null,
      "outputs": [
        {
          "output_type": "stream",
          "name": "stdout",
          "text": [
            "Enter the age : 21\n",
            "Eligible to vote .\n"
          ]
        }
      ]
    },
    {
      "cell_type": "markdown",
      "source": [
        "Problem 13:Write a program to find the sum of digits of a number."
      ],
      "metadata": {
        "id": "7DidhdWBNjYZ"
      }
    },
    {
      "cell_type": "code",
      "source": [
        "# Ask the user to enter a number and convert it to an integer\n",
        "num = int(input(\"Enter number: \"))\n",
        "\n",
        "# Initialize variables\n",
        "sum = 0   # To store the sum of digits\n",
        "rem = 0   # To store the remainder (last digit)\n",
        "\n",
        "# Loop until the number becomes 0\n",
        "while num > 0:\n",
        "    rem = num % 10        # Get the last digit of the number\n",
        "    sum = sum + rem       # Add it to the sum\n",
        "    num = num // 10       # Remove the last digit (integer division)\n",
        "\n",
        "# Print the sum of digits\n",
        "print(\"Sum of digits:\", sum)\n"
      ],
      "metadata": {
        "colab": {
          "base_uri": "https://localhost:8080/"
        },
        "id": "p7QhMEt7NmjA",
        "outputId": "c7fe0481-674b-42cc-8023-b3dc20d0331a"
      },
      "execution_count": null,
      "outputs": [
        {
          "output_type": "stream",
          "name": "stdout",
          "text": [
            "Enter number : 912\n",
            "sum of digits :  13\n"
          ]
        }
      ]
    },
    {
      "cell_type": "markdown",
      "source": [
        "Problem 14:.Display whether a year is a leap year or not"
      ],
      "metadata": {
        "id": "oAV_jfhsPYzG"
      }
    },
    {
      "cell_type": "code",
      "source": [
        "# Ask the user to enter a year and convert it to an integer\n",
        "year = int(input(\"Enter any year: \"))\n",
        "\n",
        "# Check if the year is a leap year\n",
        "# Leap year rule:\n",
        "# 1. Year divisible by 4 → possible leap year\n",
        "# 2. If divisible by 100 → must also be divisible by 400\n",
        "if (year % 4 == 0 and year % 100 != 0) or (year % 400 == 0):\n",
        "    print(\"Entered year is leap\")\n",
        "else:\n",
        "    print(\"Entered year is not leap\")\n"
      ],
      "metadata": {
        "colab": {
          "base_uri": "https://localhost:8080/"
        },
        "id": "QDviXgxGPcsO",
        "outputId": "d7b23ffc-9861-42fb-918e-e618031e8774"
      },
      "execution_count": null,
      "outputs": [
        {
          "output_type": "stream",
          "name": "stdout",
          "text": [
            "Enter any year : 2024\n",
            "Entered year is leap\n"
          ]
        }
      ]
    },
    {
      "cell_type": "markdown",
      "source": [
        "Problem 15:Take three numbers and print the largest one.\n"
      ],
      "metadata": {
        "id": "06kgLLjlPwTA"
      }
    },
    {
      "cell_type": "code",
      "source": [
        "# Take three numbers as input from the user\n",
        "x = int(input(\"Enter x: \"))\n",
        "y = int(input(\"Enter y: \"))\n",
        "z = int(input(\"Enter z: \"))\n",
        "\n",
        "# Check which number is the largest\n",
        "if x > y and x > z:\n",
        "    print(\"Largest number is x:\", x)\n",
        "elif y > x and y > z:\n",
        "    print(\"Largest number is y:\", y)\n",
        "else:\n",
        "    print(\"Largest number is z:\", z)\n"
      ],
      "metadata": {
        "colab": {
          "base_uri": "https://localhost:8080/"
        },
        "id": "e5VTYM9nP0pg",
        "outputId": "3a9cde2b-5318-4d80-cd1d-81a93baa76ff"
      },
      "execution_count": null,
      "outputs": [
        {
          "output_type": "stream",
          "name": "stdout",
          "text": [
            "Enter x: 10\n",
            "Enter y: 12\n",
            "Enter z: 6\n",
            "12  is a largest number \n"
          ]
        }
      ]
    },
    {
      "cell_type": "markdown",
      "source": [
        "Problem 16 : Calculate the square root of a number using exponentiation."
      ],
      "metadata": {
        "id": "Cz2frCInQ5rD"
      }
    },
    {
      "cell_type": "code",
      "source": [
        "num=int(input(\"Enter a number : \"))\n",
        "\n",
        "root=num**(1/2)\n",
        "\n",
        "print(\"Square root of given Number : \",root)"
      ],
      "metadata": {
        "colab": {
          "base_uri": "https://localhost:8080/"
        },
        "id": "2Ke0aJ8lQ_0z",
        "outputId": "7a3cedfd-06e5-4822-c90e-843b49f11c20"
      },
      "execution_count": null,
      "outputs": [
        {
          "output_type": "stream",
          "name": "stdout",
          "text": [
            "Enter a number : 9\n",
            "Square root of given Number :  3.0\n"
          ]
        }
      ]
    },
    {
      "cell_type": "markdown",
      "source": [
        "Problem 17:Write a program that adds two numbers entered by the user."
      ],
      "metadata": {
        "id": "IojFems30YTb"
      }
    },
    {
      "cell_type": "code",
      "source": [
        "numA=int(input(\"Enter The number A :\"))\n",
        "numB=int(input(\"Enter The number B :\"))\n",
        "\n",
        "print(\"Sum of A and B :\",numA+numB)"
      ],
      "metadata": {
        "colab": {
          "base_uri": "https://localhost:8080/"
        },
        "id": "MBLBkTT-0egB",
        "outputId": "af94fd67-539a-4946-f088-68001ce32f70"
      },
      "execution_count": null,
      "outputs": [
        {
          "output_type": "stream",
          "name": "stdout",
          "text": [
            "Enter The number A :100\n",
            "Enter The number B :120\n",
            "Sum of A and B : 220\n"
          ]
        }
      ]
    },
    {
      "cell_type": "markdown",
      "source": [
        "Problem 18:Calculate the square root of a number using exponentiation."
      ],
      "metadata": {
        "id": "kEmk7kDWRM60"
      }
    },
    {
      "cell_type": "code",
      "source": [
        "# Ask the user to enter total seconds and convert to integer\n",
        "sec = int(input(\"Enter Seconds: \"))\n",
        "\n",
        "# Calculate total hours\n",
        "hour = int(sec / 3600)  # 1 hour = 3600 seconds\n",
        "\n",
        "# Calculate remaining minutes after removing hours\n",
        "min = int((sec % 3600) / 60)  # 1 minute = 60 seconds\n",
        "\n",
        "# Calculate remaining seconds after removing minutes\n",
        "sec = int((sec % 3600) % 60)\n",
        "\n",
        "# Display time in \"hour : min : sec\" format\n",
        "print(hour, \":\", min, \":\", sec)\n",
        "\n"
      ],
      "metadata": {
        "id": "2P81SQ0fRVbk",
        "colab": {
          "base_uri": "https://localhost:8080/"
        },
        "outputId": "35fe04e4-f34a-480a-d483-f773eee0a3bf"
      },
      "execution_count": null,
      "outputs": [
        {
          "output_type": "stream",
          "name": "stdout",
          "text": [
            "Enter Seconds : 5080\n",
            "1  :  24  :  40\n"
          ]
        }
      ]
    },
    {
      "cell_type": "markdown",
      "source": [
        "Problem 19: Write a simple calculator program using if-elif-else."
      ],
      "metadata": {
        "id": "cSquQboFzirj"
      }
    },
    {
      "cell_type": "code",
      "source": [
        "# Take first number from the user\n",
        "op1 = int(input(\"Enter first number: \"))\n",
        "\n",
        "# Take second number from the user\n",
        "op2 = int(input(\"Enter second number: \"))\n",
        "\n",
        "# Ask the user to enter an operator (+, -, *, /, %)\n",
        "op = input(\"Enter operator: \")\n",
        "\n",
        "# Perform the operation based on the entered operator\n",
        "if op == \"+\":\n",
        "    print(op1 + op2)   # Addition\n",
        "elif op == \"-\":\n",
        "    print(op1 - op2)   # Subtraction\n",
        "elif op == \"*\":\n",
        "    print(op1 * op2)   # Multiplication\n",
        "elif op == \"/\":\n",
        "    print(op1 / op2)   # Division\n",
        "elif op == \"%\":\n",
        "    print(op1 % op2)   # Modulus (remainder)\n",
        "else:\n",
        "    print(\"Invalid operator\")  # If operator is not recognized\n"
      ],
      "metadata": {
        "colab": {
          "base_uri": "https://localhost:8080/"
        },
        "id": "An2HqkD2z8JC",
        "outputId": "bfea75b1-df40-49c4-a4c4-4f9ae5a27f1a"
      },
      "execution_count": null,
      "outputs": [
        {
          "output_type": "stream",
          "name": "stdout",
          "text": [
            "Enter first number : 12\n",
            "Enter second number : 10\n",
            "Enter operator : %\n",
            "2\n"
          ]
        }
      ]
    },
    {
      "cell_type": "markdown",
      "source": [
        "Problem 20:Display the ASCII value of a given character\n"
      ],
      "metadata": {
        "id": "71nqmm8L0-t3"
      }
    },
    {
      "cell_type": "code",
      "source": [
        "# Ask the user to enter any single character\n",
        "ch = input(\"Enter any character: \")\n",
        "\n",
        "# ord() function returns the ASCII value of the character\n",
        "print(\"The ASCII value of\", ch, \"is\", ord(ch))\n"
      ],
      "metadata": {
        "colab": {
          "base_uri": "https://localhost:8080/"
        },
        "id": "r2sEMdfP1bfY",
        "outputId": "322a4d07-fa2d-4347-f7a9-dd71e00354ab"
      },
      "execution_count": null,
      "outputs": [
        {
          "output_type": "stream",
          "name": "stdout",
          "text": [
            "Enter any character : a\n",
            "The ASCII value of  a is 97\n"
          ]
        }
      ]
    },
    {
      "cell_type": "markdown",
      "source": [
        "Problem 21:Write a program to reverse a number using loops.\n"
      ],
      "metadata": {
        "id": "cQQVaAVG1wRR"
      }
    },
    {
      "cell_type": "code",
      "source": [
        "# Ask the user to enter a number and convert it to an integer\n",
        "num = int(input(\"Enter a number to be reversed: \"))\n",
        "\n",
        "# Initialize a variable to store the reversed number\n",
        "rev = 0\n",
        "\n",
        "# Loop until the number becomes 0\n",
        "while num > 0:\n",
        "    digit = num % 10         # Extract the last digit\n",
        "    rev = (rev * 10) + digit # Append the digit to the reversed number\n",
        "    num = num // 10          # Remove the last digit from the original number\n",
        "\n",
        "# Print the reversed number\n",
        "print(\"Reversed Number:\", rev)\n"
      ],
      "metadata": {
        "colab": {
          "base_uri": "https://localhost:8080/"
        },
        "id": "GuKpjqPV12sZ",
        "outputId": "6e0a143a-ef14-42a6-d3ac-c47af190281b"
      },
      "execution_count": null,
      "outputs": [
        {
          "output_type": "stream",
          "name": "stdout",
          "text": [
            "Enter a number to be reversed : 123\n",
            "Reversed Number:  321\n"
          ]
        }
      ]
    },
    {
      "cell_type": "markdown",
      "source": [
        "Problem 22: Accept a string and print its first and last character."
      ],
      "metadata": {
        "id": "8ggssAAR4pWI"
      }
    },
    {
      "cell_type": "code",
      "source": [
        "# Ask the user to enter a string\n",
        "str = input(\"Enter a string: \")\n",
        "\n",
        "# Get the length of the string\n",
        "length = len(str)\n",
        "\n",
        "# Print the first character (index 0)\n",
        "print(\"First character:\", str[0])\n",
        "\n",
        "# Print the last character (index length-1)\n",
        "print(\"Last character:\", str[length - 1])\n"
      ],
      "metadata": {
        "colab": {
          "base_uri": "https://localhost:8080/"
        },
        "id": "P1EU0Zzk-PII",
        "outputId": "de6d6ebf-830b-4590-d006-947a6f648b79"
      },
      "execution_count": null,
      "outputs": [
        {
          "output_type": "stream",
          "name": "stdout",
          "text": [
            "Enter a string : hello world\n",
            "First character :  h\n",
            "Last character :  d\n"
          ]
        }
      ]
    },
    {
      "cell_type": "markdown",
      "source": [
        "Problem 23:Concatenate two strings using user input."
      ],
      "metadata": {
        "id": "DkgbR1dM2MBL"
      }
    },
    {
      "cell_type": "code",
      "source": [
        "st1=input(\"Enter string 1 : \")\n",
        "st2=input(\"Enter string 2 : \")\n",
        "\n",
        "print(\"Concatenated string : \",st1+st2)"
      ],
      "metadata": {
        "colab": {
          "base_uri": "https://localhost:8080/"
        },
        "id": "4xrZIj_s-UFo",
        "outputId": "0f283d28-ed5f-44a9-c620-f25d41ccc4e6"
      },
      "execution_count": null,
      "outputs": [
        {
          "output_type": "stream",
          "name": "stdout",
          "text": [
            "Enter string 1 : Hello\n",
            "Enter string 2 : World\n",
            "Concatenated string :  HelloWorld\n"
          ]
        }
      ]
    },
    {
      "cell_type": "markdown",
      "source": [
        "Problem 24:Write a program to repeat a string 10 times using a loop\n"
      ],
      "metadata": {
        "id": "dr2c-sWkGSdi"
      }
    },
    {
      "cell_type": "code",
      "source": [
        "s# Ask the user to enter a string\n",
        "str = input(\"Enter a string: \")\n",
        "\n",
        "# Repeat printing the string 10 times\n",
        "for i in range(10):\n",
        "    print(str)"
      ],
      "metadata": {
        "colab": {
          "base_uri": "https://localhost:8080/"
        },
        "id": "zo3D7sk9G4LO",
        "outputId": "3f819633-6374-4a9f-8dd4-c0a35c13f0ca"
      },
      "execution_count": null,
      "outputs": [
        {
          "output_type": "stream",
          "name": "stdout",
          "text": [
            "Enter a string : chai\n",
            "chai\n",
            "chai\n",
            "chai\n",
            "chai\n",
            "chai\n",
            "chai\n",
            "chai\n",
            "chai\n",
            "chai\n",
            "chai\n"
          ]
        }
      ]
    },
    {
      "cell_type": "markdown",
      "source": [
        "Problem 25:Take a string and print its length using len()."
      ],
      "metadata": {
        "id": "QpI_xg4rG_mr"
      }
    },
    {
      "cell_type": "code",
      "source": [
        "# Ask the user to enter a string\n",
        "str = input(\"Enter a string: \")\n",
        "\n",
        "# len() function returns the total number of characters in the string\n",
        "print(\"Length of string:\", len(str))\n"
      ],
      "metadata": {
        "colab": {
          "base_uri": "https://localhost:8080/"
        },
        "id": "o3oLptm8HFVT",
        "outputId": "4108d8ce-c096-43cd-c9dd-85de4dea8fc6"
      },
      "execution_count": null,
      "outputs": [
        {
          "output_type": "stream",
          "name": "stdout",
          "text": [
            "Enter a string : hello\n",
            "Length of string :  5\n"
          ]
        }
      ]
    },
    {
      "cell_type": "markdown",
      "source": [
        "Problem 26:Accept marks and print corresponding grade using conditions"
      ],
      "metadata": {
        "id": "hKtzYbX2HSpQ"
      }
    },
    {
      "cell_type": "code",
      "source": [
        "# Ask the user to enter the marks\n",
        "marks = int(input(\"Enter marks you got: \"))\n",
        "\n",
        "# Print the beginning of the message without going to a new line\n",
        "print(\"You got \", end=\"\")\n",
        "\n",
        "# Check grade according to marks\n",
        "if marks > 80:\n",
        "    print(\"Grade A\")\n",
        "elif marks > 60:\n",
        "    print(\"Grade B\")\n",
        "elif marks > 50:\n",
        "    print(\"Grade C\")\n",
        "elif marks > 45:\n",
        "    print(\"Grade D\")\n",
        "elif marks > 25:\n",
        "    print(\"Grade E\")\n",
        "else:\n",
        "    print(\"Fail\")  # Added to handle marks ≤ 25\n"
      ],
      "metadata": {
        "colab": {
          "base_uri": "https://localhost:8080/"
        },
        "id": "dRg0d7LVHfbo",
        "outputId": "9c912a7f-8709-44cc-b8b6-b9ab2fb95bc8"
      },
      "execution_count": null,
      "outputs": [
        {
          "output_type": "stream",
          "name": "stdout",
          "text": [
            "Enter marks you got : 70\n",
            "You got Grade B\n"
          ]
        }
      ]
    },
    {
      "cell_type": "markdown",
      "source": [
        "Problem 27 :Check if a number is a multiple of 4 or 6."
      ],
      "metadata": {
        "id": "wX65Kc1HIMzW"
      }
    },
    {
      "cell_type": "code",
      "source": [
        "# Ask the user to enter a number and convert it to an integer\n",
        "num = int(input(\"Enter a number: \"))\n",
        "\n",
        "# Check if the number is divisible by 4 or 6\n",
        "\n",
        "if num % 4 == 0 or num % 6 == 0: # num % 4 == 0 → divisible by 4\n",
        "    print(\"Number is multiple of 4 or 6\")\n",
        "else: # num % 6 == 0 → divisible by 6\n",
        "    print(\"Number is not multiple of 4 or 6\")\n"
      ],
      "metadata": {
        "id": "_gND5rXFIMgm"
      },
      "execution_count": null,
      "outputs": []
    },
    {
      "cell_type": "markdown",
      "source": [
        "Problem 28:Print numbers divisible by 7 but not by 5 in a given range."
      ],
      "metadata": {
        "id": "kXWQOu-QIqEh"
      }
    },
    {
      "cell_type": "code",
      "source": [
        "# Ask the user to enter the range (upper limit)\n",
        "ran = int(input(\"Enter range to print: \"))\n",
        "\n",
        "# Loop from 0 up to (but not including) the entered range\n",
        "for i in range(ran):\n",
        "    # Check if number is divisible by 7 but NOT divisible by 5\n",
        "    if i % 7 == 0 and i % 5 != 0:\n",
        "        # Print the number on the same line with a space\n",
        "        print(i, end=\" \")\n"
      ],
      "metadata": {
        "colab": {
          "base_uri": "https://localhost:8080/"
        },
        "id": "U9bv2XjXJjsw",
        "outputId": "67579ad8-08f4-446a-8ecc-6657d29cb605"
      },
      "execution_count": null,
      "outputs": [
        {
          "output_type": "stream",
          "name": "stdout",
          "text": [
            "Enter range to print : 100\n",
            "7 14 21 28 42 49 56 63 77 84 91 98 "
          ]
        }
      ]
    },
    {
      "cell_type": "markdown",
      "source": [
        "Problem 29: Evaluate a mathematical expression entered as a string."
      ],
      "metadata": {
        "id": "17BJGBJSJwAI"
      }
    },
    {
      "cell_type": "code",
      "source": [
        "# Ask the user to enter a mathematical expression as a string\n",
        "exp = input(\"Enter Expression: \")\n",
        "\n",
        "# eval() evaluates the string as a Python expression\n",
        "print(\"Result:\", eval(exp))\n"
      ],
      "metadata": {
        "colab": {
          "base_uri": "https://localhost:8080/"
        },
        "id": "ZL1v3sr3J5mq",
        "outputId": "2076586b-b9cd-49f9-ec04-726beab52091"
      },
      "execution_count": 23,
      "outputs": [
        {
          "output_type": "stream",
          "name": "stdout",
          "text": [
            "Enter Expression: 5*10/20+3\n",
            "Result: 5.5\n"
          ]
        }
      ]
    },
    {
      "cell_type": "markdown",
      "source": [
        "Problem 30 : Convert kilometers to miles and vice versa"
      ],
      "metadata": {
        "id": "zvTnM9KoK8HF"
      }
    },
    {
      "cell_type": "code",
      "source": [
        "# Ask the user to enter distance in kilometers and convert to float\n",
        "distance_kilo = float(input(\"Enter Distance in kilometers: \"))\n",
        "\n",
        "# Convert kilometers to miles (1 km = 0.621371 miles)\n",
        "miles = distance_kilo * 0.621371\n",
        "\n",
        "# Display result\n",
        "print(\"Distance in miles:\", miles)\n",
        "\n",
        "# Ask the user to enter distance in miles and convert to float\n",
        "distance_miles = float(input(\"Enter Distance in miles: \"))\n",
        "\n",
        "# Convert miles to kilometers (1 mile = 1.60934 km)\n",
        "kilo = distance_miles * 1.60934\n",
        "\n",
        "# Display result\n",
        "print(\"Distance in kilometers:\", kilo)\n"
      ],
      "metadata": {
        "colab": {
          "base_uri": "https://localhost:8080/"
        },
        "id": "5D9tn7BPK_xe",
        "outputId": "07a42574-f60f-4f23-a146-5a5b839b0b65"
      },
      "execution_count": null,
      "outputs": [
        {
          "output_type": "stream",
          "name": "stdout",
          "text": [
            "Enter kilometers : 10\n",
            "Distance in miles :  6.21371\n",
            "Enter miles : 12\n",
            "Distance in kilometers :  19.31208\n"
          ]
        }
      ]
    },
    {
      "cell_type": "markdown",
      "source": [
        "Problem 31:Create a program to find the cube of a number\n"
      ],
      "metadata": {
        "id": "HOlFtKckLOIb"
      }
    },
    {
      "cell_type": "code",
      "source": [
        "# Ask the user to enter a number and convert it to integer\n",
        "num = int(input(\"Enter a number: \"))\n",
        "\n",
        "# Calculate the cube using exponentiation (**3 means raise to the power 3)\n",
        "print(\"Cube of given number:\", num ** 3)\n"
      ],
      "metadata": {
        "colab": {
          "base_uri": "https://localhost:8080/"
        },
        "id": "Ek680pk7LVUU",
        "outputId": "2e60f8c2-05de-419a-d470-b83d1c996907"
      },
      "execution_count": null,
      "outputs": [
        {
          "output_type": "stream",
          "name": "stdout",
          "text": [
            "Enter a number : 4\n",
            "Cube of given number :  64\n"
          ]
        }
      ]
    },
    {
      "cell_type": "markdown",
      "source": [
        "Problem 32:Write a program to display your name 5 times using a loop."
      ],
      "metadata": {
        "id": "DzBS3KROLhJx"
      }
    },
    {
      "cell_type": "code",
      "source": [
        "name=input(\"Enter your name :  \")\n",
        "\n",
        "for i in range(5) :\n",
        "  print(name,end=\" \")"
      ],
      "metadata": {
        "colab": {
          "base_uri": "https://localhost:8080/"
        },
        "id": "6PMTiSGYLd1R",
        "outputId": "2997de7b-a3f2-44ed-9446-c1acc77d7803"
      },
      "execution_count": null,
      "outputs": [
        {
          "output_type": "stream",
          "name": "stdout",
          "text": [
            "Enter your name :  rayyan\n",
            "rayyan rayyan rayyan rayyan rayyan "
          ]
        }
      ]
    }
  ]
}